{
 "cells": [
  {
   "cell_type": "code",
   "execution_count": 1,
   "metadata": {
    "collapsed": true
   },
   "outputs": [],
   "source": [
    "import tensorflow as tf\n",
    "import numpy as np\n",
    "import matplotlib.pyplot as plt"
   ]
  },
  {
   "cell_type": "markdown",
   "metadata": {},
   "source": [
    "### load data"
   ]
  },
  {
   "cell_type": "code",
   "execution_count": 2,
   "metadata": {},
   "outputs": [
    {
     "data": {
      "text/plain": [
       "(200, 6)"
      ]
     },
     "execution_count": 2,
     "metadata": {},
     "output_type": "execute_result"
    }
   ],
   "source": [
    "cpu_test = np.load('cpu_test.npy')\n",
    "cpu_test.shape\n",
    "# normalization: usage mean, usage std, ghz mean, ghz std, idle mean idle std"
   ]
  },
  {
   "cell_type": "code",
   "execution_count": 3,
   "metadata": {},
   "outputs": [
    {
     "data": {
      "text/plain": [
       "(200, 1)"
      ]
     },
     "execution_count": 3,
     "metadata": {},
     "output_type": "execute_result"
    }
   ],
   "source": [
    "x_inp = cpu_test\n",
    "y = cpu_test[:, 1].reshape(-1, 1)\n",
    "y.shape"
   ]
  },
  {
   "cell_type": "code",
   "execution_count": 4,
   "metadata": {
    "collapsed": true
   },
   "outputs": [],
   "source": [
    "inds = np.arange(200)\n",
    "x_inds = np.array([inds[i:i+10] for i in range(180)])\n",
    "y_inds = np.array([inds[i+10:i+20] for i in range(180)])"
   ]
  },
  {
   "cell_type": "code",
   "execution_count": 5,
   "metadata": {},
   "outputs": [
    {
     "data": {
      "text/plain": [
       "array([[ 10,  11,  12, ...,  17,  18,  19],\n",
       "       [ 11,  12,  13, ...,  18,  19,  20],\n",
       "       [ 12,  13,  14, ...,  19,  20,  21],\n",
       "       ..., \n",
       "       [187, 188, 189, ..., 194, 195, 196],\n",
       "       [188, 189, 190, ..., 195, 196, 197],\n",
       "       [189, 190, 191, ..., 196, 197, 198]])"
      ]
     },
     "execution_count": 5,
     "metadata": {},
     "output_type": "execute_result"
    }
   ],
   "source": [
    "y_inds"
   ]
  },
  {
   "cell_type": "code",
   "execution_count": 6,
   "metadata": {
    "collapsed": true
   },
   "outputs": [],
   "source": [
    "k = 0\n",
    "def next_batch(batch_size, k):\n",
    "    if k >= 170:\n",
    "        k = 0\n",
    "    x_batch = x_inp[x_inds[k:k+batch_size]]\n",
    "    y_batch = y[y_inds[k:k+batch_size]]\n",
    "    k += batch_size\n",
    "    \n",
    "    return x_batch, y_batch, k"
   ]
  },
  {
   "cell_type": "code",
   "execution_count": 7,
   "metadata": {
    "scrolled": true
   },
   "outputs": [
    {
     "data": {
      "text/plain": [
       "(array([[[ 0.09360996,  0.05388845,  0.25279705,  0.53125915,  0.25277938,\n",
       "           0.01351733],\n",
       "         [ 0.12644566,  0.03265302,  0.42883444,  0.59814845,  0.29856708,\n",
       "           0.03927302],\n",
       "         [ 0.88569816,  0.73399956,  0.46877213,  0.55780382,  0.05546405,\n",
       "           0.13529379],\n",
       "         [ 0.04857528,  0.09045046,  0.33111457,  0.35146809,  0.29387301,\n",
       "           0.01749417],\n",
       "         [ 0.14816166,  0.10512534,  0.48803286,  0.681614  ,  0.2486206 ,\n",
       "           0.02430442],\n",
       "         [ 0.18400467,  0.09661348,  0.22603031,  0.24771356,  0.2932142 ,\n",
       "           0.05534762],\n",
       "         [ 0.04563728,  0.11198681,  0.16428268,  0.21026351,  0.30482583,\n",
       "           0.02682642],\n",
       "         [ 0.04939712,  0.07167343,  0.37969126,  0.63478452,  0.28259079,\n",
       "           0.01128418],\n",
       "         [ 0.08192728,  0.04908888,  0.4408724 ,  0.57170161,  0.28287902,\n",
       "           0.01111411],\n",
       "         [ 0.10358105,  0.01365675,  0.59934853,  0.76780693,  0.27686733,\n",
       "           0.        ]],\n",
       " \n",
       "        [[ 0.12644566,  0.03265302,  0.42883444,  0.59814845,  0.29856708,\n",
       "           0.03927302],\n",
       "         [ 0.88569816,  0.73399956,  0.46877213,  0.55780382,  0.05546405,\n",
       "           0.13529379],\n",
       "         [ 0.04857528,  0.09045046,  0.33111457,  0.35146809,  0.29387301,\n",
       "           0.01749417],\n",
       "         [ 0.14816166,  0.10512534,  0.48803286,  0.681614  ,  0.2486206 ,\n",
       "           0.02430442],\n",
       "         [ 0.18400467,  0.09661348,  0.22603031,  0.24771356,  0.2932142 ,\n",
       "           0.05534762],\n",
       "         [ 0.04563728,  0.11198681,  0.16428268,  0.21026351,  0.30482583,\n",
       "           0.02682642],\n",
       "         [ 0.04939712,  0.07167343,  0.37969126,  0.63478452,  0.28259079,\n",
       "           0.01128418],\n",
       "         [ 0.08192728,  0.04908888,  0.4408724 ,  0.57170161,  0.28287902,\n",
       "           0.01111411],\n",
       "         [ 0.10358105,  0.01365675,  0.59934853,  0.76780693,  0.27686733,\n",
       "           0.        ],\n",
       "         [ 0.10432368,  0.07969458,  0.29344286,  0.35645686,  0.26809685,\n",
       "           0.01989369]],\n",
       " \n",
       "        [[ 0.88569816,  0.73399956,  0.46877213,  0.55780382,  0.05546405,\n",
       "           0.13529379],\n",
       "         [ 0.04857528,  0.09045046,  0.33111457,  0.35146809,  0.29387301,\n",
       "           0.01749417],\n",
       "         [ 0.14816166,  0.10512534,  0.48803286,  0.681614  ,  0.2486206 ,\n",
       "           0.02430442],\n",
       "         [ 0.18400467,  0.09661348,  0.22603031,  0.24771356,  0.2932142 ,\n",
       "           0.05534762],\n",
       "         [ 0.04563728,  0.11198681,  0.16428268,  0.21026351,  0.30482583,\n",
       "           0.02682642],\n",
       "         [ 0.04939712,  0.07167343,  0.37969126,  0.63478452,  0.28259079,\n",
       "           0.01128418],\n",
       "         [ 0.08192728,  0.04908888,  0.4408724 ,  0.57170161,  0.28287902,\n",
       "           0.01111411],\n",
       "         [ 0.10358105,  0.01365675,  0.59934853,  0.76780693,  0.27686733,\n",
       "           0.        ],\n",
       "         [ 0.10432368,  0.07969458,  0.29344286,  0.35645686,  0.26809685,\n",
       "           0.01989369],\n",
       "         [ 0.06434597,  0.10117309,  0.36340462,  0.38376701,  0.31137281,\n",
       "           0.0201309 ]],\n",
       " \n",
       "        [[ 0.04857528,  0.09045046,  0.33111457,  0.35146809,  0.29387301,\n",
       "           0.01749417],\n",
       "         [ 0.14816166,  0.10512534,  0.48803286,  0.681614  ,  0.2486206 ,\n",
       "           0.02430442],\n",
       "         [ 0.18400467,  0.09661348,  0.22603031,  0.24771356,  0.2932142 ,\n",
       "           0.05534762],\n",
       "         [ 0.04563728,  0.11198681,  0.16428268,  0.21026351,  0.30482583,\n",
       "           0.02682642],\n",
       "         [ 0.04939712,  0.07167343,  0.37969126,  0.63478452,  0.28259079,\n",
       "           0.01128418],\n",
       "         [ 0.08192728,  0.04908888,  0.4408724 ,  0.57170161,  0.28287902,\n",
       "           0.01111411],\n",
       "         [ 0.10358105,  0.01365675,  0.59934853,  0.76780693,  0.27686733,\n",
       "           0.        ],\n",
       "         [ 0.10432368,  0.07969458,  0.29344286,  0.35645686,  0.26809685,\n",
       "           0.01989369],\n",
       "         [ 0.06434597,  0.10117309,  0.36340462,  0.38376701,  0.31137281,\n",
       "           0.0201309 ],\n",
       "         [ 0.12568464,  0.14888923,  0.24741538,  0.18952304,  0.25870872,\n",
       "           0.02392628]],\n",
       " \n",
       "        [[ 0.14816166,  0.10512534,  0.48803286,  0.681614  ,  0.2486206 ,\n",
       "           0.02430442],\n",
       "         [ 0.18400467,  0.09661348,  0.22603031,  0.24771356,  0.2932142 ,\n",
       "           0.05534762],\n",
       "         [ 0.04563728,  0.11198681,  0.16428268,  0.21026351,  0.30482583,\n",
       "           0.02682642],\n",
       "         [ 0.04939712,  0.07167343,  0.37969126,  0.63478452,  0.28259079,\n",
       "           0.01128418],\n",
       "         [ 0.08192728,  0.04908888,  0.4408724 ,  0.57170161,  0.28287902,\n",
       "           0.01111411],\n",
       "         [ 0.10358105,  0.01365675,  0.59934853,  0.76780693,  0.27686733,\n",
       "           0.        ],\n",
       "         [ 0.10432368,  0.07969458,  0.29344286,  0.35645686,  0.26809685,\n",
       "           0.01989369],\n",
       "         [ 0.06434597,  0.10117309,  0.36340462,  0.38376701,  0.31137281,\n",
       "           0.0201309 ],\n",
       "         [ 0.12568464,  0.14888923,  0.24741538,  0.18952304,  0.25870872,\n",
       "           0.02392628],\n",
       "         [ 0.97453971,  0.86242579,  0.49723835,  0.56443314,  0.10685168,\n",
       "           0.20514582]],\n",
       " \n",
       "        [[ 0.18400467,  0.09661348,  0.22603031,  0.24771356,  0.2932142 ,\n",
       "           0.05534762],\n",
       "         [ 0.04563728,  0.11198681,  0.16428268,  0.21026351,  0.30482583,\n",
       "           0.02682642],\n",
       "         [ 0.04939712,  0.07167343,  0.37969126,  0.63478452,  0.28259079,\n",
       "           0.01128418],\n",
       "         [ 0.08192728,  0.04908888,  0.4408724 ,  0.57170161,  0.28287902,\n",
       "           0.01111411],\n",
       "         [ 0.10358105,  0.01365675,  0.59934853,  0.76780693,  0.27686733,\n",
       "           0.        ],\n",
       "         [ 0.10432368,  0.07969458,  0.29344286,  0.35645686,  0.26809685,\n",
       "           0.01989369],\n",
       "         [ 0.06434597,  0.10117309,  0.36340462,  0.38376701,  0.31137281,\n",
       "           0.0201309 ],\n",
       "         [ 0.12568464,  0.14888923,  0.24741538,  0.18952304,  0.25870872,\n",
       "           0.02392628],\n",
       "         [ 0.97453971,  0.86242579,  0.49723835,  0.56443314,  0.10685168,\n",
       "           0.20514582],\n",
       "         [ 0.11349131,  0.11978789,  0.23990936,  0.37111254,  0.28226139,\n",
       "           0.02190501]],\n",
       " \n",
       "        [[ 0.04563728,  0.11198681,  0.16428268,  0.21026351,  0.30482583,\n",
       "           0.02682642],\n",
       "         [ 0.04939712,  0.07167343,  0.37969126,  0.63478452,  0.28259079,\n",
       "           0.01128418],\n",
       "         [ 0.08192728,  0.04908888,  0.4408724 ,  0.57170161,  0.28287902,\n",
       "           0.01111411],\n",
       "         [ 0.10358105,  0.01365675,  0.59934853,  0.76780693,  0.27686733,\n",
       "           0.        ],\n",
       "         [ 0.10432368,  0.07969458,  0.29344286,  0.35645686,  0.26809685,\n",
       "           0.01989369],\n",
       "         [ 0.06434597,  0.10117309,  0.36340462,  0.38376701,  0.31137281,\n",
       "           0.0201309 ],\n",
       "         [ 0.12568464,  0.14888923,  0.24741538,  0.18952304,  0.25870872,\n",
       "           0.02392628],\n",
       "         [ 0.97453971,  0.86242579,  0.49723835,  0.56443314,  0.10685168,\n",
       "           0.20514582],\n",
       "         [ 0.11349131,  0.11978789,  0.23990936,  0.37111254,  0.28226139,\n",
       "           0.02190501],\n",
       "         [ 0.20852288,  0.11145926,  0.36949441,  0.31660117,  0.39813061,\n",
       "           0.23259041]],\n",
       " \n",
       "        [[ 0.04939712,  0.07167343,  0.37969126,  0.63478452,  0.28259079,\n",
       "           0.01128418],\n",
       "         [ 0.08192728,  0.04908888,  0.4408724 ,  0.57170161,  0.28287902,\n",
       "           0.01111411],\n",
       "         [ 0.10358105,  0.01365675,  0.59934853,  0.76780693,  0.27686733,\n",
       "           0.        ],\n",
       "         [ 0.10432368,  0.07969458,  0.29344286,  0.35645686,  0.26809685,\n",
       "           0.01989369],\n",
       "         [ 0.06434597,  0.10117309,  0.36340462,  0.38376701,  0.31137281,\n",
       "           0.0201309 ],\n",
       "         [ 0.12568464,  0.14888923,  0.24741538,  0.18952304,  0.25870872,\n",
       "           0.02392628],\n",
       "         [ 0.97453971,  0.86242579,  0.49723835,  0.56443314,  0.10685168,\n",
       "           0.20514582],\n",
       "         [ 0.11349131,  0.11978789,  0.23990936,  0.37111254,  0.28226139,\n",
       "           0.02190501],\n",
       "         [ 0.20852288,  0.11145926,  0.36949441,  0.31660117,  0.39813061,\n",
       "           0.23259041],\n",
       "         [ 0.01844559,  0.00715391,  0.09035547,  0.13568834,  0.30033764,\n",
       "           0.00161131]],\n",
       " \n",
       "        [[ 0.08192728,  0.04908888,  0.4408724 ,  0.57170161,  0.28287902,\n",
       "           0.01111411],\n",
       "         [ 0.10358105,  0.01365675,  0.59934853,  0.76780693,  0.27686733,\n",
       "           0.        ],\n",
       "         [ 0.10432368,  0.07969458,  0.29344286,  0.35645686,  0.26809685,\n",
       "           0.01989369],\n",
       "         [ 0.06434597,  0.10117309,  0.36340462,  0.38376701,  0.31137281,\n",
       "           0.0201309 ],\n",
       "         [ 0.12568464,  0.14888923,  0.24741538,  0.18952304,  0.25870872,\n",
       "           0.02392628],\n",
       "         [ 0.97453971,  0.86242579,  0.49723835,  0.56443314,  0.10685168,\n",
       "           0.20514582],\n",
       "         [ 0.11349131,  0.11978789,  0.23990936,  0.37111254,  0.28226139,\n",
       "           0.02190501],\n",
       "         [ 0.20852288,  0.11145926,  0.36949441,  0.31660117,  0.39813061,\n",
       "           0.23259041],\n",
       "         [ 0.01844559,  0.00715391,  0.09035547,  0.13568834,  0.30033764,\n",
       "           0.00161131],\n",
       "         [ 0.10039692,  0.0530651 ,  0.10848322,  0.07118824,  0.28073787,\n",
       "           0.01559385]],\n",
       " \n",
       "        [[ 0.10358105,  0.01365675,  0.59934853,  0.76780693,  0.27686733,\n",
       "           0.        ],\n",
       "         [ 0.10432368,  0.07969458,  0.29344286,  0.35645686,  0.26809685,\n",
       "           0.01989369],\n",
       "         [ 0.06434597,  0.10117309,  0.36340462,  0.38376701,  0.31137281,\n",
       "           0.0201309 ],\n",
       "         [ 0.12568464,  0.14888923,  0.24741538,  0.18952304,  0.25870872,\n",
       "           0.02392628],\n",
       "         [ 0.97453971,  0.86242579,  0.49723835,  0.56443314,  0.10685168,\n",
       "           0.20514582],\n",
       "         [ 0.11349131,  0.11978789,  0.23990936,  0.37111254,  0.28226139,\n",
       "           0.02190501],\n",
       "         [ 0.20852288,  0.11145926,  0.36949441,  0.31660117,  0.39813061,\n",
       "           0.23259041],\n",
       "         [ 0.01844559,  0.00715391,  0.09035547,  0.13568834,  0.30033764,\n",
       "           0.00161131],\n",
       "         [ 0.10039692,  0.0530651 ,  0.10848322,  0.07118824,  0.28073787,\n",
       "           0.01559385],\n",
       "         [ 0.09683652,  0.06910981,  0.15224472,  0.28190755,  0.31244338,\n",
       "           0.01663379]]]), array([[[ 0.07969458],\n",
       "         [ 0.10117309],\n",
       "         [ 0.14888923],\n",
       "         [ 0.86242579],\n",
       "         [ 0.11978789],\n",
       "         [ 0.11145926],\n",
       "         [ 0.00715391],\n",
       "         [ 0.0530651 ],\n",
       "         [ 0.06910981],\n",
       "         [ 0.08239578]],\n",
       " \n",
       "        [[ 0.10117309],\n",
       "         [ 0.14888923],\n",
       "         [ 0.86242579],\n",
       "         [ 0.11978789],\n",
       "         [ 0.11145926],\n",
       "         [ 0.00715391],\n",
       "         [ 0.0530651 ],\n",
       "         [ 0.06910981],\n",
       "         [ 0.08239578],\n",
       "         [ 0.05994729]],\n",
       " \n",
       "        [[ 0.14888923],\n",
       "         [ 0.86242579],\n",
       "         [ 0.11978789],\n",
       "         [ 0.11145926],\n",
       "         [ 0.00715391],\n",
       "         [ 0.0530651 ],\n",
       "         [ 0.06910981],\n",
       "         [ 0.08239578],\n",
       "         [ 0.05994729],\n",
       "         [ 0.03551932]],\n",
       " \n",
       "        [[ 0.86242579],\n",
       "         [ 0.11978789],\n",
       "         [ 0.11145926],\n",
       "         [ 0.00715391],\n",
       "         [ 0.0530651 ],\n",
       "         [ 0.06910981],\n",
       "         [ 0.08239578],\n",
       "         [ 0.05994729],\n",
       "         [ 0.03551932],\n",
       "         [ 0.17024451]],\n",
       " \n",
       "        [[ 0.11978789],\n",
       "         [ 0.11145926],\n",
       "         [ 0.00715391],\n",
       "         [ 0.0530651 ],\n",
       "         [ 0.06910981],\n",
       "         [ 0.08239578],\n",
       "         [ 0.05994729],\n",
       "         [ 0.03551932],\n",
       "         [ 0.17024451],\n",
       "         [ 0.80964682]],\n",
       " \n",
       "        [[ 0.11145926],\n",
       "         [ 0.00715391],\n",
       "         [ 0.0530651 ],\n",
       "         [ 0.06910981],\n",
       "         [ 0.08239578],\n",
       "         [ 0.05994729],\n",
       "         [ 0.03551932],\n",
       "         [ 0.17024451],\n",
       "         [ 0.80964682],\n",
       "         [ 0.12507132]],\n",
       " \n",
       "        [[ 0.00715391],\n",
       "         [ 0.0530651 ],\n",
       "         [ 0.06910981],\n",
       "         [ 0.08239578],\n",
       "         [ 0.05994729],\n",
       "         [ 0.03551932],\n",
       "         [ 0.17024451],\n",
       "         [ 0.80964682],\n",
       "         [ 0.12507132],\n",
       "         [ 0.09198704]],\n",
       " \n",
       "        [[ 0.0530651 ],\n",
       "         [ 0.06910981],\n",
       "         [ 0.08239578],\n",
       "         [ 0.05994729],\n",
       "         [ 0.03551932],\n",
       "         [ 0.17024451],\n",
       "         [ 0.80964682],\n",
       "         [ 0.12507132],\n",
       "         [ 0.09198704],\n",
       "         [ 0.12817336]],\n",
       " \n",
       "        [[ 0.06910981],\n",
       "         [ 0.08239578],\n",
       "         [ 0.05994729],\n",
       "         [ 0.03551932],\n",
       "         [ 0.17024451],\n",
       "         [ 0.80964682],\n",
       "         [ 0.12507132],\n",
       "         [ 0.09198704],\n",
       "         [ 0.12817336],\n",
       "         [ 0.10068814]],\n",
       " \n",
       "        [[ 0.08239578],\n",
       "         [ 0.05994729],\n",
       "         [ 0.03551932],\n",
       "         [ 0.17024451],\n",
       "         [ 0.80964682],\n",
       "         [ 0.12507132],\n",
       "         [ 0.09198704],\n",
       "         [ 0.12817336],\n",
       "         [ 0.10068814],\n",
       "         [ 0.02776525]]]), 10)"
      ]
     },
     "execution_count": 7,
     "metadata": {},
     "output_type": "execute_result"
    }
   ],
   "source": [
    "x_batch, y_batch, k = next_batch(10, k)\n",
    "x_batch, y_batch, k"
   ]
  },
  {
   "cell_type": "markdown",
   "metadata": {},
   "source": [
    "### The LSTM"
   ]
  },
  {
   "cell_type": "code",
   "execution_count": 8,
   "metadata": {
    "collapsed": true
   },
   "outputs": [],
   "source": [
    "def _weight(shape):\n",
    "    initial = tf.truncated_normal(shape, stddev=0.1)\n",
    "    return tf.Variable(initial)\n",
    "\n",
    "def _bias(shape):\n",
    "    initial = tf.constant(0.1, shape=shape)\n",
    "    return tf.Variable(initial)"
   ]
  },
  {
   "cell_type": "code",
   "execution_count": 9,
   "metadata": {
    "collapsed": true
   },
   "outputs": [],
   "source": [
    "enc_inp = [tf.placeholder(tf.float32, shape=[None, 6], name='enc_inp') for i in range(10)]\n",
    "target = [tf.placeholder(tf.float32, shape=[None, 1], name='dec_out') for i in range(10)]\n",
    "dec_inp = [tf.zeros_like(target[0], dtype=np.float32, name=\"GO\")]+target[0:-1]\n",
    "    \n",
    "w_enc = _weight([6, 32])\n",
    "b_enc = _bias([32])\n",
    "enc_inp_ = [tf.nn.dropout(tf.nn.relu(tf.matmul(enc_inp[i], w_enc)+b_enc), keep_prob=.8) for i in range(10)]"
   ]
  },
  {
   "cell_type": "code",
   "execution_count": 10,
   "metadata": {},
   "outputs": [
    {
     "data": {
      "text/plain": [
       "[<tf.Tensor 'dropout/mul:0' shape=(?, 32) dtype=float32>,\n",
       " <tf.Tensor 'dropout_1/mul:0' shape=(?, 32) dtype=float32>,\n",
       " <tf.Tensor 'dropout_2/mul:0' shape=(?, 32) dtype=float32>,\n",
       " <tf.Tensor 'dropout_3/mul:0' shape=(?, 32) dtype=float32>,\n",
       " <tf.Tensor 'dropout_4/mul:0' shape=(?, 32) dtype=float32>,\n",
       " <tf.Tensor 'dropout_5/mul:0' shape=(?, 32) dtype=float32>,\n",
       " <tf.Tensor 'dropout_6/mul:0' shape=(?, 32) dtype=float32>,\n",
       " <tf.Tensor 'dropout_7/mul:0' shape=(?, 32) dtype=float32>,\n",
       " <tf.Tensor 'dropout_8/mul:0' shape=(?, 32) dtype=float32>,\n",
       " <tf.Tensor 'dropout_9/mul:0' shape=(?, 32) dtype=float32>]"
      ]
     },
     "execution_count": 10,
     "metadata": {},
     "output_type": "execute_result"
    }
   ],
   "source": [
    "enc_inp_"
   ]
  },
  {
   "cell_type": "code",
   "execution_count": 11,
   "metadata": {},
   "outputs": [
    {
     "data": {
      "text/plain": [
       "[<tf.Tensor 'GO:0' shape=(?, 1) dtype=float32>,\n",
       " <tf.Tensor 'dec_out:0' shape=(?, 1) dtype=float32>,\n",
       " <tf.Tensor 'dec_out_1:0' shape=(?, 1) dtype=float32>,\n",
       " <tf.Tensor 'dec_out_2:0' shape=(?, 1) dtype=float32>,\n",
       " <tf.Tensor 'dec_out_3:0' shape=(?, 1) dtype=float32>,\n",
       " <tf.Tensor 'dec_out_4:0' shape=(?, 1) dtype=float32>,\n",
       " <tf.Tensor 'dec_out_5:0' shape=(?, 1) dtype=float32>,\n",
       " <tf.Tensor 'dec_out_6:0' shape=(?, 1) dtype=float32>,\n",
       " <tf.Tensor 'dec_out_7:0' shape=(?, 1) dtype=float32>,\n",
       " <tf.Tensor 'dec_out_8:0' shape=(?, 1) dtype=float32>]"
      ]
     },
     "execution_count": 11,
     "metadata": {},
     "output_type": "execute_result"
    }
   ],
   "source": [
    "dec_inp"
   ]
  },
  {
   "cell_type": "code",
   "execution_count": 12,
   "metadata": {},
   "outputs": [
    {
     "data": {
      "text/plain": [
       "[<tf.Tensor 'dec_out:0' shape=(?, 1) dtype=float32>,\n",
       " <tf.Tensor 'dec_out_1:0' shape=(?, 1) dtype=float32>,\n",
       " <tf.Tensor 'dec_out_2:0' shape=(?, 1) dtype=float32>,\n",
       " <tf.Tensor 'dec_out_3:0' shape=(?, 1) dtype=float32>,\n",
       " <tf.Tensor 'dec_out_4:0' shape=(?, 1) dtype=float32>,\n",
       " <tf.Tensor 'dec_out_5:0' shape=(?, 1) dtype=float32>,\n",
       " <tf.Tensor 'dec_out_6:0' shape=(?, 1) dtype=float32>,\n",
       " <tf.Tensor 'dec_out_7:0' shape=(?, 1) dtype=float32>,\n",
       " <tf.Tensor 'dec_out_8:0' shape=(?, 1) dtype=float32>,\n",
       " <tf.Tensor 'dec_out_9:0' shape=(?, 1) dtype=float32>]"
      ]
     },
     "execution_count": 12,
     "metadata": {},
     "output_type": "execute_result"
    }
   ],
   "source": [
    "target"
   ]
  },
  {
   "cell_type": "code",
   "execution_count": 13,
   "metadata": {
    "collapsed": true
   },
   "outputs": [],
   "source": [
    "n_hiddens = 2\n",
    "cells = [tf.contrib.rnn.BasicLSTMCell(n_hiddens, forget_bias=1.0) for i in range(2)]\n",
    "cell = tf.contrib.rnn.MultiRNNCell(cells)"
   ]
  },
  {
   "cell_type": "code",
   "execution_count": 14,
   "metadata": {
    "collapsed": true
   },
   "outputs": [],
   "source": [
    "dec_outputs, dec_memory = tf.contrib.legacy_seq2seq.basic_rnn_seq2seq(\n",
    "        enc_inp_, \n",
    "        dec_inp, \n",
    "        cell\n",
    "    )"
   ]
  },
  {
   "cell_type": "code",
   "execution_count": 15,
   "metadata": {
    "collapsed": true
   },
   "outputs": [],
   "source": [
    "w_out = _weight([2, 1])\n",
    "b_out = _bias([1])\n",
    "output_scale_factor = tf.Variable(1.0, name=\"Output_ScaleFactor\")\n",
    "    \n",
    "results = [output_scale_factor*(tf.matmul(i, w_out) + b_out) for i in dec_outputs]\n",
    "\n",
    "# reshaped_outputs = [output_scale_factor*(tf.matmul(i, w_out) + b_out) for i in dec_outputs]"
   ]
  },
  {
   "cell_type": "code",
   "execution_count": 16,
   "metadata": {
    "collapsed": true
   },
   "outputs": [],
   "source": [
    "# Optmizer: \n",
    "l_r = 0.007  # Small lr helps not to diverge during training. \n",
    "lr_decay = 0.92  # default: 0.9 . Simulated annealing.\n",
    "momentum = 0.5  # default: 0.0 . Momentum technique in weights update\n",
    "\n",
    "output_loss = 0\n",
    "for _y, _Y in zip(results, target):\n",
    "    output_loss += tf.reduce_mean(tf.nn.l2_loss(_y - _Y))\n",
    "# L2 regularization (to avoid overfitting and to have a  better generalization capacity)\n",
    "# reg_loss = 0\n",
    "# for tf_var in tf.trainable_variables():\n",
    "#     if not (\"Bias\" in tf_var.name or \"Output_\" in tf_var.name):\n",
    "#         reg_loss += tf.reduce_mean(tf.nn.l2_loss(tf_var))\n",
    "\n",
    "op = tf.train.RMSPropOptimizer(l_r, decay=lr_decay, momentum=momentum).minimize(output_loss)"
   ]
  },
  {
   "cell_type": "code",
   "execution_count": 26,
   "metadata": {},
   "outputs": [
    {
     "name": "stdout",
     "output_type": "stream",
     "text": [
      "Epoch: 10 Loss: [1.5738423]\n",
      "Epoch: 20 Loss: [0.57016975]\n",
      "Epoch: 30 Loss: [0.48973525]\n",
      "Epoch: 40 Loss: [0.41554981]\n",
      "Epoch: 50 Loss: [0.30175847]\n",
      "Epoch: 60 Loss: [0.21828681]\n",
      "Epoch: 70 Loss: [0.26752064]\n",
      "Epoch: 80 Loss: [0.19035102]\n",
      "Epoch: 90 Loss: [0.14012769]\n",
      "Epoch: 100 Loss: [0.17820312]\n",
      "Epoch: 110 Loss: [0.1412264]\n",
      "Epoch: 120 Loss: [0.10543123]\n",
      "Epoch: 130 Loss: [0.11671318]\n",
      "Epoch: 140 Loss: [0.076797828]\n",
      "Epoch: 150 Loss: [0.089979157]\n",
      "Epoch: 160 Loss: [0.13663585]\n",
      "Epoch: 170 Loss: [0.12995081]\n",
      "Epoch: 180 Loss: [0.15272647]\n",
      "Epoch: 190 Loss: [0.10869227]\n",
      "Epoch: 200 Loss: [0.11066042]\n",
      "Epoch: 210 Loss: [0.093652591]\n",
      "Epoch: 220 Loss: [0.085491523]\n",
      "Epoch: 230 Loss: [0.0878231]\n",
      "Epoch: 240 Loss: [0.092125624]\n",
      "Epoch: 250 Loss: [0.10039236]\n",
      "Epoch: 260 Loss: [0.0777798]\n",
      "Epoch: 270 Loss: [0.1527296]\n",
      "Epoch: 280 Loss: [0.11035995]\n",
      "Epoch: 290 Loss: [0.081989959]\n",
      "Epoch: 300 Loss: [0.077778503]\n",
      "Epoch: 310 Loss: [0.086896092]\n",
      "Epoch: 320 Loss: [0.087431327]\n",
      "Epoch: 330 Loss: [0.093500845]\n",
      "Epoch: 340 Loss: [0.078002214]\n",
      "Epoch: 350 Loss: [0.069332719]\n",
      "Epoch: 360 Loss: [0.087469459]\n",
      "Epoch: 370 Loss: [0.070521288]\n",
      "Epoch: 380 Loss: [0.073200732]\n",
      "Epoch: 390 Loss: [0.070686042]\n",
      "Epoch: 400 Loss: [0.077426016]\n",
      "Epoch: 410 Loss: [0.11569776]\n",
      "Epoch: 420 Loss: [0.072594576]\n",
      "Epoch: 430 Loss: [0.097605586]\n",
      "Epoch: 440 Loss: [0.066874906]\n",
      "Epoch: 450 Loss: [0.073952936]\n",
      "Epoch: 460 Loss: [0.077979833]\n",
      "Epoch: 470 Loss: [0.076380678]\n",
      "Epoch: 480 Loss: [0.073470086]\n",
      "Epoch: 490 Loss: [0.070772648]\n",
      "Epoch: 500 Loss: [0.079463974]\n",
      "Epoch: 510 Loss: [0.096713446]\n",
      "Epoch: 520 Loss: [0.075410202]\n",
      "Epoch: 530 Loss: [0.073924385]\n",
      "Epoch: 540 Loss: [0.071406506]\n",
      "Epoch: 550 Loss: [0.072134688]\n",
      "Epoch: 560 Loss: [0.081547916]\n",
      "Epoch: 570 Loss: [0.076879233]\n",
      "Epoch: 580 Loss: [0.073275067]\n",
      "Epoch: 590 Loss: [0.080204487]\n",
      "Epoch: 600 Loss: [0.14675613]\n",
      "Epoch: 610 Loss: [0.073122308]\n",
      "Epoch: 620 Loss: [0.076944381]\n",
      "Epoch: 630 Loss: [0.073740341]\n",
      "Epoch: 640 Loss: [0.07616023]\n",
      "Epoch: 650 Loss: [0.074435085]\n",
      "Epoch: 660 Loss: [0.072385222]\n",
      "Epoch: 670 Loss: [0.075097337]\n",
      "Epoch: 680 Loss: [0.073170327]\n",
      "Epoch: 690 Loss: [0.1609561]\n",
      "Epoch: 700 Loss: [0.070627414]\n",
      "Epoch: 710 Loss: [0.078265592]\n",
      "Epoch: 720 Loss: [0.078419]\n",
      "Epoch: 730 Loss: [0.077322826]\n",
      "Epoch: 740 Loss: [0.068807803]\n",
      "Epoch: 750 Loss: [0.080375008]\n",
      "Epoch: 760 Loss: [0.085814431]\n",
      "Epoch: 770 Loss: [0.080008417]\n",
      "Epoch: 780 Loss: [0.074396074]\n",
      "Epoch: 790 Loss: [0.078100815]\n",
      "Epoch: 800 Loss: [0.096356951]\n",
      "Epoch: 810 Loss: [0.12518957]\n",
      "Epoch: 820 Loss: [0.096387044]\n",
      "Epoch: 830 Loss: [0.075756699]\n",
      "Epoch: 840 Loss: [0.074033044]\n",
      "Epoch: 850 Loss: [0.1159306]\n",
      "Epoch: 860 Loss: [0.087058201]\n",
      "Epoch: 870 Loss: [0.090867028]\n",
      "Epoch: 880 Loss: [0.082933486]\n",
      "Epoch: 890 Loss: [0.080979124]\n",
      "Epoch: 900 Loss: [0.079081349]\n",
      "Epoch: 910 Loss: [0.078397714]\n",
      "Epoch: 920 Loss: [0.18028186]\n",
      "Epoch: 930 Loss: [0.086361215]\n",
      "Epoch: 940 Loss: [0.076898158]\n",
      "Epoch: 950 Loss: [0.095346764]\n",
      "Epoch: 960 Loss: [0.078800976]\n",
      "Epoch: 970 Loss: [0.076241091]\n",
      "Epoch: 980 Loss: [0.082080178]\n",
      "Epoch: 990 Loss: [0.078307971]\n",
      "Epoch: 1000 Loss: [0.075842321]\n",
      "Done.\n"
     ]
    }
   ],
   "source": [
    "epoch = 1000\n",
    "batch_size = 10\n",
    "init = tf.global_variables_initializer()\n",
    "loss_ = list()\n",
    "with tf.Session() as sess:\n",
    "    sess.run(init)\n",
    "    for epo in range(epoch):\n",
    "        for i in range(17):\n",
    "            x_batch, y_batch, k = next_batch(batch_size, k)\n",
    "            feed_dict = {enc_inp[t]: x_batch[t] for t in range(len(enc_inp))}\n",
    "            feed_dict.update({target[t]: y_batch[t] for t in range(len(target))})\n",
    "            _ = sess.run([op], feed_dict=feed_dict)\n",
    "        if (epo+1)%10 == 0:\n",
    "            loss = sess.run([output_loss], feed_dict=feed_dict)\n",
    "            loss_.append(loss)\n",
    "            print('Epoch:', epo+1, \n",
    "                  'Loss:', loss)\n",
    "    \n",
    "    feed_dict = {enc_inp[t]: x_inp[180:190][t].reshape([-1, 6]) for t in range(len(enc_inp))}\n",
    "    feed_dict.update({target[t]: y[190:][t].reshape([-1, 1]) for t in range(len(target))})\n",
    "    y_pred1 = sess.run(results, feed_dict=feed_dict)\n",
    "    y_pred1 = np.array(y_pred1).reshape([-1, 1])\n",
    "    \n",
    "    feed_dict = {enc_inp[t]: x_inp[115:125][t].reshape([-1, 6]) for t in range(len(enc_inp))}\n",
    "    feed_dict.update({target[t]: y[125:][t].reshape([-1, 1]) for t in range(len(target))})\n",
    "    y_pred2 = sess.run(results, feed_dict=feed_dict)\n",
    "    y_pred2 = np.array(y_pred2).reshape([-1, 1])    \n",
    "    \n",
    "    feed_dict = {enc_inp[t]: x_inp[112:122][t].reshape([-1, 6]) for t in range(len(enc_inp))}\n",
    "    feed_dict.update({target[t]: y[122:][t].reshape([-1, 1]) for t in range(len(target))})\n",
    "    y_pred3 = sess.run(results, feed_dict=feed_dict)\n",
    "    y_pred3 = np.array(y_pred3).reshape([-1, 1])\n",
    "    \n",
    "    print('Done.')"
   ]
  },
  {
   "cell_type": "code",
   "execution_count": 24,
   "metadata": {},
   "outputs": [
    {
     "data": {
      "image/png": "[encoded data removed]",
      "text/plain": [
       "<matplotlib.figure.Figure at 0x7fad4468be10>"
      ]
     },
     "metadata": {},
     "output_type": "display_data"
    }
   ],
   "source": [
    "plt.plot(np.arange(10), x_inp[180:190, 1], '-o')\n",
    "plt.plot(np.arange(20)[10:], y_pred1, '-ro') # pred \n",
    "plt.plot(np.arange(20)[9:], x_inp[189:, 1], '--b') # real \n",
    "plt.show()"
   ]
  },
  {
   "cell_type": "code",
   "execution_count": 22,
   "metadata": {},
   "outputs": [
    {
     "data": {
      "image/png": "[encoded data removed]",
      "text/plain": [
       "<matplotlib.figure.Figure at 0x7fad60060a20>"
      ]
     },
     "metadata": {},
     "output_type": "display_data"
    }
   ],
   "source": [
    "plt.plot(np.arange(10), x_inp[115:125, 1], '-o')\n",
    "plt.plot(np.arange(20)[10:], y_pred2, '-ro') # pred \n",
    "plt.plot(np.arange(20)[9:], x_inp[124:135, 1], '--b') # real \n",
    "plt.show()"
   ]
  },
  {
   "cell_type": "code",
   "execution_count": 23,
   "metadata": {},
   "outputs": [
    {
     "data": {
      "image/png": "[encoded data removed]",
      "text/plain": [
       "<matplotlib.figure.Figure at 0x7fad44793f28>"
      ]
     },
     "metadata": {},
     "output_type": "display_data"
    }
   ],
   "source": [
    "plt.plot(np.arange(10), x_inp[112:122, 1], '-o')\n",
    "plt.plot(np.arange(20)[10:], y_pred3, '-ro') # pred \n",
    "plt.plot(np.arange(20)[9:], x_inp[121:132, 1], '--b') # real \n",
    "plt.show()"
   ]
  },
  {
   "cell_type": "code",
   "execution_count": 25,
   "metadata": {},
   "outputs": [
    {
     "data": {
      "image/png": "[encoded data removed]",
      "text/plain": [
       "<matplotlib.figure.Figure at 0x7fad63a52550>"
      ]
     },
     "metadata": {},
     "output_type": "display_data"
    }
   ],
   "source": [
    "plt.plot(np.arange(len(loss_))*10, loss_)\n",
    "plt.show()"
   ]
  },
  {
   "cell_type": "code",
   "execution_count": 58,
   "metadata": {},
   "outputs": [
    {
     "data": {
      "text/plain": [
       "array([[ 0.29015023],\n",
       "       [ 0.18072164],\n",
       "       [-0.33479571],\n",
       "       [-0.77907753],\n",
       "       [-0.91983753]], dtype=float32)"
      ]
     },
     "execution_count": 58,
     "metadata": {},
     "output_type": "execute_result"
    }
   ],
   "source": [
    "y_pred1"
   ]
  },
  {
   "cell_type": "code",
   "execution_count": 22,
   "metadata": {},
   "outputs": [
    {
     "data": {
      "text/plain": [
       "array([[ 0.59847214],\n",
       "       [ 0.14112001],\n",
       "       [-0.35078323],\n",
       "       [-0.7568025 ],\n",
       "       [-0.97753012]])"
      ]
     },
     "execution_count": 22,
     "metadata": {},
     "output_type": "execute_result"
    }
   ],
   "source": [
    "y[y_inds[0]]"
   ]
  },
  {
   "cell_type": "code",
   "execution_count": 32,
   "metadata": {},
   "outputs": [
    {
     "data": {
      "text/plain": [
       "array([ 0.        ,  0.47942554,  0.84147098,  0.99749499,  0.90929743])"
      ]
     },
     "execution_count": 32,
     "metadata": {},
     "output_type": "execute_result"
    }
   ],
   "source": [
    "x_inp[x_inds[0], 0]"
   ]
  },
  {
   "cell_type": "code",
   "execution_count": 37,
   "metadata": {},
   "outputs": [
    {
     "data": {
      "text/plain": [
       "array([[ 0.        ],\n",
       "       [ 0.47942554],\n",
       "       [ 0.84147098],\n",
       "       [ 0.99749499],\n",
       "       [ 0.90929743],\n",
       "       [ 0.59847214],\n",
       "       [ 0.14112001],\n",
       "       [-0.35078323],\n",
       "       [-0.7568025 ],\n",
       "       [-0.97753012],\n",
       "       [-0.95892427],\n",
       "       [-0.70554033],\n",
       "       [-0.2794155 ],\n",
       "       [ 0.21511999],\n",
       "       [ 0.6569866 ],\n",
       "       [ 0.93799998],\n",
       "       [ 0.98935825],\n",
       "       [ 0.79848711],\n",
       "       [ 0.41211849],\n",
       "       [-0.07515112]])"
      ]
     },
     "execution_count": 37,
     "metadata": {},
     "output_type": "execute_result"
    }
   ],
   "source": [
    "y"
   ]
  },
  {
   "cell_type": "code",
   "execution_count": 3,
   "metadata": {},
   "outputs": [
    {
     "name": "stdout",
     "output_type": "stream",
     "text": [
      "Tue Nov 28 18:48:36 2017       \r\n",
      "+-----------------------------------------------------------------------------+\r\n",
      "| NVIDIA-SMI 375.66                 Driver Version: 375.66                    |\r\n",
      "|-------------------------------+----------------------+----------------------+\r\n",
      "| GPU  Name        Persistence-M| Bus-Id        Disp.A | Volatile Uncorr. ECC |\r\n",
      "| Fan  Temp  Perf  Pwr:Usage/Cap|         Memory-Usage | GPU-Util  Compute M. |\r\n",
      "|===============================+======================+======================|\r\n",
      "|   0  GeForce GTX 106...  Off  | 0000:01:00.0      On |                  N/A |\r\n",
      "|  0%   48C    P2    27W / 120W |   5938MiB /  6071MiB |     26%      Default |\r\n",
      "+-------------------------------+----------------------+----------------------+\r\n",
      "                                                                               \r\n",
      "+-----------------------------------------------------------------------------+\r\n",
      "| Processes:                                                       GPU Memory |\r\n",
      "|  GPU       PID  Type  Process name                               Usage      |\r\n",
      "|=============================================================================|\r\n",
      "|    0      1048    G   /usr/lib/xorg/Xorg                             139MiB |\r\n",
      "|    0      2889    G   compiz                                          44MiB |\r\n",
      "|    0     27015    C   /usr/bin/python3                              5585MiB |\r\n",
      "|    0     28760    C   /usr/bin/python3                               165MiB |\r\n",
      "+-----------------------------------------------------------------------------+\r\n"
     ]
    }
   ],
   "source": [
    "!nvidia-smi"
   ]
  },
  {
   "cell_type": "code",
   "execution_count": null,
   "metadata": {
    "collapsed": true
   },
   "outputs": [],
   "source": []
  }
 ],
 "metadata": {
  "kernelspec": {
   "display_name": "Python 3",
   "language": "python",
   "name": "python3"
  },
  "language_info": {
   "codemirror_mode": {
    "name": "ipython",
    "version": 3
   },
   "file_extension": ".py",
   "mimetype": "text/x-python",
   "name": "python",
   "nbconvert_exporter": "python",
   "pygments_lexer": "ipython3",
   "version": "3.5.2"
  }
 },
 "nbformat": 4,
 "nbformat_minor": 2
}
