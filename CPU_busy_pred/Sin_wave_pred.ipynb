{
 "cells": [
  {
   "cell_type": "code",
   "execution_count": 1,
   "metadata": {
    "collapsed": true
   },
   "outputs": [],
   "source": [
    "import tensorflow as tf\n",
    "import numpy as np\n",
    "import matplotlib.pyplot as plt"
   ]
  },
  {
   "cell_type": "markdown",
   "metadata": {},
   "source": [
    "### data creation"
   ]
  },
  {
   "cell_type": "code",
   "execution_count": 2,
   "metadata": {},
   "outputs": [
    {
     "data": {
      "text/plain": [
       "((20,), (20,), (20,))"
      ]
     },
     "execution_count": 2,
     "metadata": {},
     "output_type": "execute_result"
    }
   ],
   "source": [
    "x = np.arange(0, 10, 0.5)\n",
    "y = np.sin(x)\n",
    "z = np.random.normal(0, 0.1, 20)\n",
    "x.shape, y.shape, z.shape"
   ]
  },
  {
   "cell_type": "code",
   "execution_count": 3,
   "metadata": {},
   "outputs": [
    {
     "data": {
      "image/png": "[encoded data removed]",
      "text/plain": [
       "<matplotlib.figure.Figure at 0x7f1d64a050f0>"
      ]
     },
     "metadata": {},
     "output_type": "display_data"
    }
   ],
   "source": [
    "plt.plot(x, z, '--r')\n",
    "plt.plot(x, y, 'b')\n",
    "plt.show()"
   ]
  },
  {
   "cell_type": "code",
   "execution_count": 4,
   "metadata": {},
   "outputs": [
    {
     "data": {
      "text/plain": [
       "((20, 1), (20, 1), (20, 1))"
      ]
     },
     "execution_count": 4,
     "metadata": {},
     "output_type": "execute_result"
    }
   ],
   "source": [
    "x = x.reshape([-1, 1])\n",
    "y = y.reshape([-1, 1])\n",
    "z = z.reshape([-1, 1])\n",
    "x.shape, y.shape, z.shape"
   ]
  },
  {
   "cell_type": "code",
   "execution_count": 5,
   "metadata": {},
   "outputs": [
    {
     "data": {
      "text/plain": [
       "(20, 2)"
      ]
     },
     "execution_count": 5,
     "metadata": {},
     "output_type": "execute_result"
    }
   ],
   "source": [
    "x_inp = np.hstack([y, z])\n",
    "x_inp.shape"
   ]
  },
  {
   "cell_type": "code",
   "execution_count": 6,
   "metadata": {
    "collapsed": true
   },
   "outputs": [],
   "source": [
    "inds = np.arange(20)\n",
    "x_inds = np.array([inds[i:i+5] for i in range(10)])\n",
    "y_inds = np.array([inds[i+5:i+10] for i in range(10)])"
   ]
  },
  {
   "cell_type": "code",
   "execution_count": 7,
   "metadata": {},
   "outputs": [
    {
     "data": {
      "text/plain": [
       "array([[ 5,  6,  7,  8,  9],\n",
       "       [ 6,  7,  8,  9, 10],\n",
       "       [ 7,  8,  9, 10, 11],\n",
       "       [ 8,  9, 10, 11, 12],\n",
       "       [ 9, 10, 11, 12, 13],\n",
       "       [10, 11, 12, 13, 14],\n",
       "       [11, 12, 13, 14, 15],\n",
       "       [12, 13, 14, 15, 16],\n",
       "       [13, 14, 15, 16, 17],\n",
       "       [14, 15, 16, 17, 18]])"
      ]
     },
     "execution_count": 7,
     "metadata": {},
     "output_type": "execute_result"
    }
   ],
   "source": [
    "y_inds"
   ]
  },
  {
   "cell_type": "code",
   "execution_count": 8,
   "metadata": {
    "collapsed": true
   },
   "outputs": [],
   "source": [
    "k = 0\n",
    "def next_batch(batch_size, k):\n",
    "    if k >= 10:\n",
    "        k = 0\n",
    "    x_batch = x_inp[x_inds[k:k+batch_size]]\n",
    "    y_batch = y[y_inds[k:k+batch_size]]\n",
    "    k += batch_size\n",
    "    \n",
    "    return x_batch, y_batch, k"
   ]
  },
  {
   "cell_type": "code",
   "execution_count": 9,
   "metadata": {
    "scrolled": true
   },
   "outputs": [
    {
     "data": {
      "text/plain": [
       "(array([[[ 0.        , -0.01687228],\n",
       "         [ 0.47942554,  0.08439883],\n",
       "         [ 0.84147098, -0.01826474],\n",
       "         [ 0.99749499, -0.07171815],\n",
       "         [ 0.90929743,  0.03560053]],\n",
       " \n",
       "        [[ 0.47942554,  0.08439883],\n",
       "         [ 0.84147098, -0.01826474],\n",
       "         [ 0.99749499, -0.07171815],\n",
       "         [ 0.90929743,  0.03560053],\n",
       "         [ 0.59847214, -0.05187375]],\n",
       " \n",
       "        [[ 0.84147098, -0.01826474],\n",
       "         [ 0.99749499, -0.07171815],\n",
       "         [ 0.90929743,  0.03560053],\n",
       "         [ 0.59847214, -0.05187375],\n",
       "         [ 0.14112001, -0.01782329]],\n",
       " \n",
       "        [[ 0.99749499, -0.07171815],\n",
       "         [ 0.90929743,  0.03560053],\n",
       "         [ 0.59847214, -0.05187375],\n",
       "         [ 0.14112001, -0.01782329],\n",
       "         [-0.35078323,  0.03623696]],\n",
       " \n",
       "        [[ 0.90929743,  0.03560053],\n",
       "         [ 0.59847214, -0.05187375],\n",
       "         [ 0.14112001, -0.01782329],\n",
       "         [-0.35078323,  0.03623696],\n",
       "         [-0.7568025 ,  0.05663116]]]), array([[[ 0.59847214],\n",
       "         [ 0.14112001],\n",
       "         [-0.35078323],\n",
       "         [-0.7568025 ],\n",
       "         [-0.97753012]],\n",
       " \n",
       "        [[ 0.14112001],\n",
       "         [-0.35078323],\n",
       "         [-0.7568025 ],\n",
       "         [-0.97753012],\n",
       "         [-0.95892427]],\n",
       " \n",
       "        [[-0.35078323],\n",
       "         [-0.7568025 ],\n",
       "         [-0.97753012],\n",
       "         [-0.95892427],\n",
       "         [-0.70554033]],\n",
       " \n",
       "        [[-0.7568025 ],\n",
       "         [-0.97753012],\n",
       "         [-0.95892427],\n",
       "         [-0.70554033],\n",
       "         [-0.2794155 ]],\n",
       " \n",
       "        [[-0.97753012],\n",
       "         [-0.95892427],\n",
       "         [-0.70554033],\n",
       "         [-0.2794155 ],\n",
       "         [ 0.21511999]]]), 5)"
      ]
     },
     "execution_count": 9,
     "metadata": {},
     "output_type": "execute_result"
    }
   ],
   "source": [
    "x_batch, y_batch, k = next_batch(5, k)\n",
    "x_batch, y_batch, k"
   ]
  },
  {
   "cell_type": "markdown",
   "metadata": {},
   "source": [
    "### The LSTM"
   ]
  },
  {
   "cell_type": "code",
   "execution_count": 10,
   "metadata": {
    "collapsed": true
   },
   "outputs": [],
   "source": [
    "enc_inp = [tf.placeholder(tf.float32, shape=[None, 2], name='enc_inp') for i in range(5)]\n",
    "target = [tf.placeholder(tf.float32, shape=[None, 1], name='dec_out') for i in range(5)]\n",
    "dec_inp = [tf.zeros_like(target[0], dtype=np.float32, name=\"GO\")]+\\\n",
    "          target[0:-1]"
   ]
  },
  {
   "cell_type": "code",
   "execution_count": 11,
   "metadata": {},
   "outputs": [
    {
     "data": {
      "text/plain": [
       "[<tf.Tensor 'enc_inp:0' shape=(?, 2) dtype=float32>,\n",
       " <tf.Tensor 'enc_inp_1:0' shape=(?, 2) dtype=float32>,\n",
       " <tf.Tensor 'enc_inp_2:0' shape=(?, 2) dtype=float32>,\n",
       " <tf.Tensor 'enc_inp_3:0' shape=(?, 2) dtype=float32>,\n",
       " <tf.Tensor 'enc_inp_4:0' shape=(?, 2) dtype=float32>]"
      ]
     },
     "execution_count": 11,
     "metadata": {},
     "output_type": "execute_result"
    }
   ],
   "source": [
    "enc_inp"
   ]
  },
  {
   "cell_type": "code",
   "execution_count": 12,
   "metadata": {},
   "outputs": [
    {
     "data": {
      "text/plain": [
       "[<tf.Tensor 'GO:0' shape=(?, 1) dtype=float32>,\n",
       " <tf.Tensor 'dec_out:0' shape=(?, 1) dtype=float32>,\n",
       " <tf.Tensor 'dec_out_1:0' shape=(?, 1) dtype=float32>,\n",
       " <tf.Tensor 'dec_out_2:0' shape=(?, 1) dtype=float32>,\n",
       " <tf.Tensor 'dec_out_3:0' shape=(?, 1) dtype=float32>]"
      ]
     },
     "execution_count": 12,
     "metadata": {},
     "output_type": "execute_result"
    }
   ],
   "source": [
    "dec_inp"
   ]
  },
  {
   "cell_type": "code",
   "execution_count": 13,
   "metadata": {},
   "outputs": [
    {
     "data": {
      "text/plain": [
       "[<tf.Tensor 'dec_out:0' shape=(?, 1) dtype=float32>,\n",
       " <tf.Tensor 'dec_out_1:0' shape=(?, 1) dtype=float32>,\n",
       " <tf.Tensor 'dec_out_2:0' shape=(?, 1) dtype=float32>,\n",
       " <tf.Tensor 'dec_out_3:0' shape=(?, 1) dtype=float32>,\n",
       " <tf.Tensor 'dec_out_4:0' shape=(?, 1) dtype=float32>]"
      ]
     },
     "execution_count": 13,
     "metadata": {},
     "output_type": "execute_result"
    }
   ],
   "source": [
    "target"
   ]
  },
  {
   "cell_type": "code",
   "execution_count": 14,
   "metadata": {
    "collapsed": true
   },
   "outputs": [],
   "source": [
    "n_hiddens = 2\n",
    "cells = [tf.contrib.rnn.BasicLSTMCell(n_hiddens, forget_bias=1.0) for i in range(2)]\n",
    "cell = tf.contrib.rnn.MultiRNNCell(cells)"
   ]
  },
  {
   "cell_type": "code",
   "execution_count": 16,
   "metadata": {
    "collapsed": true
   },
   "outputs": [],
   "source": [
    "dec_outputs, dec_memory = tf.contrib.legacy_seq2seq.basic_rnn_seq2seq(\n",
    "        enc_inp, \n",
    "        dec_inp, \n",
    "        cell\n",
    "    )"
   ]
  },
  {
   "cell_type": "code",
   "execution_count": 17,
   "metadata": {},
   "outputs": [],
   "source": [
    "def _weight(shape):\n",
    "    initial = tf.truncated_normal(shape, stddev=0.1)\n",
    "    return tf.Variable(initial)\n",
    "\n",
    "def _bias(shape):\n",
    "    initial = tf.constant(0.1, shape=shape)\n",
    "    return tf.Variable(initial)\n",
    "\n",
    "w_out = _weight([2, 1])\n",
    "b_out = _bias([1])\n",
    "output_scale_factor = tf.Variable(1.0, name=\"Output_ScaleFactor\")\n",
    "    \n",
    "results = [output_scale_factor*(tf.matmul(i, w_out) + b_out) for i in dec_outputs]\n",
    "\n",
    "# reshaped_outputs = [output_scale_factor*(tf.matmul(i, w_out) + b_out) for i in dec_outputs]"
   ]
  },
  {
   "cell_type": "code",
   "execution_count": 18,
   "metadata": {
    "collapsed": true
   },
   "outputs": [],
   "source": [
    "# Optmizer: \n",
    "l_r = 0.007  # Small lr helps not to diverge during training. \n",
    "nb_iters = 150  # How many times we perform a training step (therefore how many times we show a batch). \n",
    "lr_decay = 0.92  # default: 0.9 . Simulated annealing.\n",
    "momentum = 0.5  # default: 0.0 . Momentum technique in weights update\n",
    "\n",
    "output_loss = 0\n",
    "for _y, _Y in zip(results, target):\n",
    "    output_loss += tf.reduce_mean(tf.nn.l2_loss(_y - _Y))\n",
    "# L2 regularization (to avoid overfitting and to have a  better generalization capacity)\n",
    "# reg_loss = 0\n",
    "# for tf_var in tf.trainable_variables():\n",
    "#     if not (\"Bias\" in tf_var.name or \"Output_\" in tf_var.name):\n",
    "#         reg_loss += tf.reduce_mean(tf.nn.l2_loss(tf_var))\n",
    "\n",
    "op = tf.train.RMSPropOptimizer(l_r, decay=lr_decay, momentum=momentum).minimize(output_loss)"
   ]
  },
  {
   "cell_type": "code",
   "execution_count": 68,
   "metadata": {},
   "outputs": [
    {
     "name": "stdout",
     "output_type": "stream",
     "text": [
      "Epoch: 10 Loss: [6.6787739]\n",
      "Epoch: 20 Loss: [5.8191824]\n",
      "Epoch: 30 Loss: [2.3903489]\n",
      "Epoch: 40 Loss: [2.1866724]\n",
      "Epoch: 50 Loss: [1.638483]\n",
      "Epoch: 60 Loss: [1.1801045]\n",
      "Epoch: 70 Loss: [0.79048061]\n",
      "Epoch: 80 Loss: [0.5168702]\n",
      "Epoch: 90 Loss: [0.35563529]\n",
      "Epoch: 100 Loss: [0.24680404]\n",
      "Epoch: 110 Loss: [0.16980876]\n",
      "Epoch: 120 Loss: [0.12039174]\n",
      "Epoch: 130 Loss: [0.084257081]\n",
      "Epoch: 140 Loss: [0.069069177]\n",
      "Epoch: 150 Loss: [0.044432793]\n",
      "Epoch: 160 Loss: [0.037419766]\n",
      "Epoch: 170 Loss: [0.026373051]\n",
      "Epoch: 180 Loss: [0.022690222]\n",
      "Epoch: 190 Loss: [0.017315939]\n",
      "Epoch: 200 Loss: [0.013590805]\n",
      "Epoch: 210 Loss: [0.010599094]\n",
      "Epoch: 220 Loss: [0.0082614031]\n",
      "Epoch: 230 Loss: [0.025320031]\n",
      "Epoch: 240 Loss: [0.011863071]\n",
      "Epoch: 250 Loss: [0.0055392953]\n",
      "Epoch: 260 Loss: [0.0055746175]\n",
      "Epoch: 270 Loss: [0.0067847068]\n",
      "Epoch: 280 Loss: [0.0043501044]\n",
      "Epoch: 290 Loss: [0.0036425616]\n",
      "Epoch: 300 Loss: [0.0041910424]\n",
      "Epoch: 310 Loss: [0.0043434268]\n",
      "Epoch: 320 Loss: [0.0051118457]\n",
      "Epoch: 330 Loss: [0.0029753691]\n",
      "Epoch: 340 Loss: [0.0023766737]\n",
      "Epoch: 350 Loss: [0.0048134252]\n",
      "Epoch: 360 Loss: [0.0037174409]\n",
      "Epoch: 370 Loss: [0.0057305866]\n",
      "Epoch: 380 Loss: [0.0033295532]\n",
      "Epoch: 390 Loss: [0.00891033]\n",
      "Epoch: 400 Loss: [0.0024543055]\n",
      "Epoch: 410 Loss: [0.0071998676]\n",
      "Epoch: 420 Loss: [0.007609861]\n",
      "Epoch: 430 Loss: [0.0056567402]\n",
      "Epoch: 440 Loss: [0.001644449]\n",
      "Epoch: 450 Loss: [0.0016482526]\n",
      "Epoch: 460 Loss: [0.0104005]\n",
      "Epoch: 470 Loss: [0.0023693037]\n",
      "Epoch: 480 Loss: [0.0052446602]\n",
      "Epoch: 490 Loss: [0.0026159645]\n",
      "Epoch: 500 Loss: [0.0022785014]\n",
      "Done.\n"
     ]
    }
   ],
   "source": [
    "epoch = 500\n",
    "batch_size = 5\n",
    "init = tf.global_variables_initializer()\n",
    "\n",
    "with tf.Session() as sess:\n",
    "    sess.run(init)\n",
    "    for epo in range(epoch):\n",
    "        for i in range(2):\n",
    "            x_batch, y_batch, k = next_batch(batch_size, k)\n",
    "            feed_dict = {enc_inp[t]: x_batch[t] for t in range(len(enc_inp))}\n",
    "            feed_dict.update({target[t]: y_batch[t] for t in range(len(target))})\n",
    "            _ = sess.run([op], feed_dict=feed_dict)\n",
    "            loss = sess.run([output_loss], feed_dict=feed_dict)\n",
    "        if (epo+1)%10 == 0:\n",
    "            print('Epoch:', epo+1, \n",
    "                  'Loss:', loss)\n",
    "    feed_dict = {enc_inp[t]: x_inp[x_inds[0]][t].reshape([-1, 2]) for t in range(len(enc_inp))}\n",
    "    feed_dict.update({target[t]: y[y_inds[0]][t].reshape([-1, 1]) for t in range(len(target))})\n",
    "    y_pred1 = sess.run(results, feed_dict=feed_dict)\n",
    "    y_pred1 = np.array(y_pred1).reshape([-1, 1])\n",
    "    \n",
    "    inp = np.hstack([y_pred1, z[y_inds[5]]])\n",
    "    feed_dict = {enc_inp[t]: inp[t].reshape([-1, 2]) for t in range(len(enc_inp))}\n",
    "    feed_dict.update({target[t]: y[y_inds[5]][t].reshape([-1, 1]) for t in range(len(target))})\n",
    "    y_pred2 = sess.run(results, feed_dict=feed_dict)\n",
    "    y_pred2 = np.array(y_pred2).reshape([-1, 1])\n",
    "    \n",
    "    print('Done.')"
   ]
  },
  {
   "cell_type": "code",
   "execution_count": 69,
   "metadata": {},
   "outputs": [
    {
     "data": {
      "image/png": "[encoded data removed]",
      "text/plain": [
       "<matplotlib.figure.Figure at 0x7f1d49685908>"
      ]
     },
     "metadata": {},
     "output_type": "display_data"
    }
   ],
   "source": [
    "y_pred = np.vstack([y_pred1, y_pred2])\n",
    "\n",
    "plt.plot(x[x_inds[0]], x_inp[x_inds[0], 0])\n",
    "plt.plot(x[5:15], y_pred, 'r') # pred \n",
    "plt.plot(x[4:15], y[4:15], '--b') # real \n",
    "plt.show()"
   ]
  },
  {
   "cell_type": "code",
   "execution_count": 58,
   "metadata": {},
   "outputs": [
    {
     "data": {
      "text/plain": [
       "array([[ 0.29015023],\n",
       "       [ 0.18072164],\n",
       "       [-0.33479571],\n",
       "       [-0.77907753],\n",
       "       [-0.91983753]], dtype=float32)"
      ]
     },
     "execution_count": 58,
     "metadata": {},
     "output_type": "execute_result"
    }
   ],
   "source": [
    "y_pred1"
   ]
  },
  {
   "cell_type": "code",
   "execution_count": 22,
   "metadata": {},
   "outputs": [
    {
     "data": {
      "text/plain": [
       "array([[ 0.59847214],\n",
       "       [ 0.14112001],\n",
       "       [-0.35078323],\n",
       "       [-0.7568025 ],\n",
       "       [-0.97753012]])"
      ]
     },
     "execution_count": 22,
     "metadata": {},
     "output_type": "execute_result"
    }
   ],
   "source": [
    "y[y_inds[0]]"
   ]
  },
  {
   "cell_type": "code",
   "execution_count": 32,
   "metadata": {},
   "outputs": [
    {
     "data": {
      "text/plain": [
       "array([ 0.        ,  0.47942554,  0.84147098,  0.99749499,  0.90929743])"
      ]
     },
     "execution_count": 32,
     "metadata": {},
     "output_type": "execute_result"
    }
   ],
   "source": [
    "x_inp[x_inds[0], 0]"
   ]
  },
  {
   "cell_type": "code",
   "execution_count": 37,
   "metadata": {},
   "outputs": [
    {
     "data": {
      "text/plain": [
       "array([[ 0.        ],\n",
       "       [ 0.47942554],\n",
       "       [ 0.84147098],\n",
       "       [ 0.99749499],\n",
       "       [ 0.90929743],\n",
       "       [ 0.59847214],\n",
       "       [ 0.14112001],\n",
       "       [-0.35078323],\n",
       "       [-0.7568025 ],\n",
       "       [-0.97753012],\n",
       "       [-0.95892427],\n",
       "       [-0.70554033],\n",
       "       [-0.2794155 ],\n",
       "       [ 0.21511999],\n",
       "       [ 0.6569866 ],\n",
       "       [ 0.93799998],\n",
       "       [ 0.98935825],\n",
       "       [ 0.79848711],\n",
       "       [ 0.41211849],\n",
       "       [-0.07515112]])"
      ]
     },
     "execution_count": 37,
     "metadata": {},
     "output_type": "execute_result"
    }
   ],
   "source": [
    "y"
   ]
  },
  {
   "cell_type": "code",
   "execution_count": null,
   "metadata": {
    "collapsed": true
   },
   "outputs": [],
   "source": []
  }
 ],
 "metadata": {
  "kernelspec": {
   "display_name": "Python 3",
   "language": "python",
   "name": "python3"
  },
  "language_info": {
   "codemirror_mode": {
    "name": "ipython",
    "version": 3
   },
   "file_extension": ".py",
   "mimetype": "text/x-python",
   "name": "python",
   "nbconvert_exporter": "python",
   "pygments_lexer": "ipython3",
   "version": "3.5.2"
  }
 },
 "nbformat": 4,
 "nbformat_minor": 2
}
