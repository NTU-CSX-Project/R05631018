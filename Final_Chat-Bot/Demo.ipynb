{
 "cells": [
  {
   "cell_type": "markdown",
   "metadata": {},
   "source": [
    "## Pre-trained model demo"
   ]
  },
  {
   "cell_type": "markdown",
   "metadata": {},
   "source": [
    "- Load the model"
   ]
  },
  {
   "cell_type": "code",
   "execution_count": 1,
   "metadata": {},
   "outputs": [
    {
     "name": "stdout",
     "output_type": "stream",
     "text": [
      "Data loader initializing\n",
      "mode: pre_trained\n",
      "Pre-trained dicts loading...\n",
      "done\n",
      "Restoring model...\n",
      "done\n"
     ]
    }
   ],
   "source": [
    "from libs.word2vec import Word2vec\n",
    "from libs.data_loader import loader\n",
    "from libs.seq2seq import seq2seq_chatbot\n",
    "import matplotlib.pyplot as plt \n",
    "import tensorflow as tf\n",
    "import numpy as np\n",
    "import jieba\n",
    "\n",
    "np.set_printoptions(precision=2)\n",
    "model_name = 'test2'\n",
    "dloader = loader(mode='pre_trained', model_name=model_name)\n",
    "\n",
    "sess = tf.Session()\n",
    "s2s = seq2seq_chatbot(load_model=True, model_name=model_name)\n",
    "s2s.load_model(sess=sess, name='test')\n",
    "word_vec, word_target, word_outputs, Attention_weights, loss_all, update_step = s2s.load_model_params_meta()\n",
    "\n",
    "# functions for predicting next sentences\n",
    "sent_len = len(word_vec)\n",
    "enc_len = len(word_vec)\n",
    "dec_len = len(word_target)\n",
    "def next_sent(inp):\n",
    "    inp = list(jieba.cut(inp))\n",
    "    for j in range(len(inp)):\n",
    "        if inp[j] in dloader.word2vec_lookup:\n",
    "            pass\n",
    "        else:\n",
    "            inp[j] = '<unk>'\n",
    "    if len(inp) > sent_len:\n",
    "        inp = inp[0:sent_len]\n",
    "    ends = ['<end>' for k in range(sent_len-len(inp))]\n",
    "    inp += ends\n",
    "    print(inp)\n",
    "    batch_x = np.array([[dloader.word2vec_lookup[inp[i]] for i in range(len(inp))]])\n",
    "    batch_y = np.array([[0 for i in range(dec_len)]])\n",
    "    resp = list()\n",
    "    for k in range(dec_len):\n",
    "        feed_dict = {word_vec[t]: batch_x[:, t] for t in range(enc_len)}\n",
    "        feed_dict.update({word_target[t]: batch_y[:, t] for t in range(dec_len)})\n",
    "        \n",
    "        resp.append(sess.run([word_outputs], feed_dict=feed_dict)[0][k])\n",
    "        batch_y[0][k] = np.argmax(resp[k])\n",
    "    atten_w = np.array(sess.run(Attention_weights, feed_dict=feed_dict)).reshape([-1])\n",
    "    atten_avg = list()\n",
    "    for i in range(enc_len):\n",
    "        atten_avg.append(np.mean([atten_w[i+j*enc_len] for j in range(dec_len)]))\n",
    "    print(np.array(atten_avg))\n",
    "    sent = [dloader.oneHotPos2word[np.argmax(w)] for w in resp]\n",
    "    return sent\n",
    "def next_n_sent(inp, n):\n",
    "    sents = list()\n",
    "    for i in range(n):\n",
    "        resp = next_sent(inp)\n",
    "        sents.append(resp)\n",
    "        inp = ''.join(sents[i]).replace('<end>', '')\n",
    "    return sents"
   ]
  },
  {
   "cell_type": "markdown",
   "metadata": {},
   "source": [
    "- Testing"
   ]
  },
  {
   "cell_type": "code",
   "execution_count": 2,
   "metadata": {},
   "outputs": [
    {
     "name": "stderr",
     "output_type": "stream",
     "text": [
      "Building prefix dict from the default dictionary ...\n",
      "Loading model from cache /tmp/jieba.cache\n",
      "Loading model cost 0.654 seconds.\n",
      "Prefix dict has been built succesfully.\n"
     ]
    },
    {
     "name": "stdout",
     "output_type": "stream",
     "text": [
      "['什麼', '時候', '要', '再', '過來', '玩', '<end>', '<end>', '<end>', '<end>']\n",
      "[ 0.26  0.17  0.1   0.06  0.11  0.28  0.01  0.    0.    0.  ]\n"
     ]
    },
    {
     "data": {
      "text/plain": [
       "'我知道'"
      ]
     },
     "execution_count": 2,
     "metadata": {},
     "output_type": "execute_result"
    }
   ],
   "source": [
    "inp = '什麼時候要再過來玩'\n",
    "''.join(next_sent(inp)).replace('<end>', '')"
   ]
  },
  {
   "cell_type": "code",
   "execution_count": 3,
   "metadata": {},
   "outputs": [
    {
     "name": "stdout",
     "output_type": "stream",
     "text": [
      "['什麼', '時候', '要', '再', '過來', '玩', '<end>', '<end>', '<end>', '<end>']\n",
      "[ 0.25  0.16  0.1   0.06  0.13  0.28  0.02  0.    0.    0.  ]\n"
     ]
    },
    {
     "data": {
      "text/plain": [
       "'我知道'"
      ]
     },
     "execution_count": 3,
     "metadata": {},
     "output_type": "execute_result"
    }
   ],
   "source": [
    "inp = '什麼時候要再過來玩'\n",
    "''.join(next_sent(inp)).replace('<end>', '')"
   ]
  },
  {
   "cell_type": "code",
   "execution_count": 4,
   "metadata": {},
   "outputs": [
    {
     "name": "stdout",
     "output_type": "stream",
     "text": [
      "['好久', '不見', '<end>', '<end>', '<end>', '<end>', '<end>', '<end>', '<end>', '<end>']\n",
      "[ 0.46  0.34  0.2   0.01  0.    0.    0.    0.    0.    0.  ]\n"
     ]
    },
    {
     "data": {
      "text/plain": [
       "'我也不知道'"
      ]
     },
     "execution_count": 4,
     "metadata": {},
     "output_type": "execute_result"
    }
   ],
   "source": [
    "inp = '好久不見'\n",
    "''.join(next_sent(inp)).replace('<end>', '')"
   ]
  },
  {
   "cell_type": "code",
   "execution_count": 5,
   "metadata": {},
   "outputs": [
    {
     "name": "stdout",
     "output_type": "stream",
     "text": [
      "['你', '怎麼', '了', '<end>', '<end>', '<end>', '<end>', '<end>', '<end>', '<end>']\n",
      "[ 0.4   0.38  0.12  0.1   0.    0.    0.    0.    0.    0.  ]\n"
     ]
    },
    {
     "data": {
      "text/plain": [
       "'怎麼了'"
      ]
     },
     "execution_count": 5,
     "metadata": {},
     "output_type": "execute_result"
    }
   ],
   "source": [
    "inp = '你怎麼了'\n",
    "''.join(next_sent(inp)).replace('<end>', '')"
   ]
  },
  {
   "cell_type": "code",
   "execution_count": 6,
   "metadata": {},
   "outputs": [
    {
     "name": "stdout",
     "output_type": "stream",
     "text": [
      "['為', '什麼', '<end>', '<end>', '<end>', '<end>', '<end>', '<end>', '<end>', '<end>']\n",
      "[ 0.48  0.34  0.17  0.    0.    0.    0.    0.    0.    0.  ]\n"
     ]
    },
    {
     "data": {
      "text/plain": [
       "'我不是要你去相親'"
      ]
     },
     "execution_count": 6,
     "metadata": {},
     "output_type": "execute_result"
    }
   ],
   "source": [
    "inp = '為什麼'\n",
    "''.join(next_sent(inp)).replace('<end>', '')"
   ]
  },
  {
   "cell_type": "code",
   "execution_count": 7,
   "metadata": {},
   "outputs": [
    {
     "name": "stdout",
     "output_type": "stream",
     "text": [
      "['你', '的', '工作', '如何', '<end>', '<end>', '<end>', '<end>', '<end>', '<end>']\n",
      "[ 0.34  0.21  0.2   0.17  0.07  0.    0.    0.    0.    0.  ]\n"
     ]
    },
    {
     "data": {
      "text/plain": [
       "'我都會幫忙'"
      ]
     },
     "execution_count": 7,
     "metadata": {},
     "output_type": "execute_result"
    }
   ],
   "source": [
    "inp = '你的工作如何'\n",
    "''.join(next_sent(inp)).replace('<end>', '')"
   ]
  },
  {
   "cell_type": "code",
   "execution_count": 8,
   "metadata": {},
   "outputs": [
    {
     "name": "stdout",
     "output_type": "stream",
     "text": [
      "['為', '什麼', '<end>', '<end>', '<end>', '<end>', '<end>', '<end>', '<end>', '<end>']\n",
      "[ 0.53  0.32  0.14  0.    0.    0.    0.    0.    0.    0.  ]\n"
     ]
    },
    {
     "data": {
      "text/plain": [
       "'我是你的女朋友'"
      ]
     },
     "execution_count": 8,
     "metadata": {},
     "output_type": "execute_result"
    }
   ],
   "source": [
    "inp = '為什麼'\n",
    "''.join(next_sent(inp)).replace('<end>', '')"
   ]
  },
  {
   "cell_type": "code",
   "execution_count": 9,
   "metadata": {},
   "outputs": [
    {
     "name": "stdout",
     "output_type": "stream",
     "text": [
      "['可是', '我', '懷疑', '<end>', '<end>', '<end>', '<end>', '<end>', '<end>', '<end>']\n",
      "[ 0.28  0.2   0.35  0.17  0.    0.    0.    0.    0.    0.  ]\n"
     ]
    },
    {
     "data": {
      "text/plain": [
       "'你是一個很有自信的人'"
      ]
     },
     "execution_count": 9,
     "metadata": {},
     "output_type": "execute_result"
    }
   ],
   "source": [
    "inp = '可是我懷疑'\n",
    "''.join(next_sent(inp)).replace('<end>', '')"
   ]
  },
  {
   "cell_type": "code",
   "execution_count": 10,
   "metadata": {},
   "outputs": [
    {
     "name": "stdout",
     "output_type": "stream",
     "text": [
      "['覺得', '什麼', '<end>', '<end>', '<end>', '<end>', '<end>', '<end>', '<end>', '<end>']\n",
      "[ 0.46  0.39  0.14  0.01  0.    0.    0.    0.    0.    0.  ]\n"
     ]
    },
    {
     "data": {
      "text/plain": [
       "'我看你似乎很高興'"
      ]
     },
     "execution_count": 10,
     "metadata": {},
     "output_type": "execute_result"
    }
   ],
   "source": [
    "inp = '覺得什麼'\n",
    "''.join(next_sent(inp)).replace('<end>', '')"
   ]
  },
  {
   "cell_type": "code",
   "execution_count": 11,
   "metadata": {},
   "outputs": [
    {
     "name": "stdout",
     "output_type": "stream",
     "text": [
      "['真的', '嗎', '<end>', '<end>', '<end>', '<end>', '<end>', '<end>', '<end>', '<end>']\n",
      "[ 0.71  0.25  0.03  0.    0.    0.    0.    0.    0.    0.  ]\n"
     ]
    },
    {
     "data": {
      "text/plain": [
       "'當然是真的'"
      ]
     },
     "execution_count": 11,
     "metadata": {},
     "output_type": "execute_result"
    }
   ],
   "source": [
    "inp = '真的嗎'\n",
    "''.join(next_sent(inp)).replace('<end>', '')"
   ]
  },
  {
   "cell_type": "code",
   "execution_count": 12,
   "metadata": {},
   "outputs": [
    {
     "name": "stdout",
     "output_type": "stream",
     "text": [
      "['<unk>', '我', '真的', '好', '高興', '<end>', '<end>', '<end>', '<end>', '<end>']\n",
      "[ 0.29  0.18  0.08  0.08  0.26  0.11  0.    0.    0.    0.  ]\n"
     ]
    },
    {
     "data": {
      "text/plain": [
       "'你怎麼可以這麼說呢'"
      ]
     },
     "execution_count": 12,
     "metadata": {},
     "output_type": "execute_result"
    }
   ],
   "source": [
    "inp = '哈哈我真的好高興'\n",
    "''.join(next_sent(inp)).replace('<end>', '')"
   ]
  },
  {
   "cell_type": "code",
   "execution_count": null,
   "metadata": {
    "collapsed": true
   },
   "outputs": [],
   "source": []
  }
 ],
 "metadata": {
  "kernelspec": {
   "display_name": "Python 3",
   "language": "python",
   "name": "python3"
  },
  "language_info": {
   "codemirror_mode": {
    "name": "ipython",
    "version": 3
   },
   "file_extension": ".py",
   "mimetype": "text/x-python",
   "name": "python",
   "nbconvert_exporter": "python",
   "pygments_lexer": "ipython3",
   "version": "3.5.2"
  }
 },
 "nbformat": 4,
 "nbformat_minor": 2
}
