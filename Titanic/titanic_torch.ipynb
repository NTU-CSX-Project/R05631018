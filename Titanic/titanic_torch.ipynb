{
 "cells": [
  {
   "cell_type": "markdown",
   "metadata": {},
   "source": [
    "## torch ver"
   ]
  },
  {
   "cell_type": "code",
   "execution_count": 2,
   "metadata": {
    "collapsed": false,
    "scrolled": true
   },
   "outputs": [],
   "source": [
    "import torch\n",
    "import torch.nn as nn\n",
    "import torchvision.transforms as transforms\n",
    "import torchvision.datasets as datasets\n",
    "from torch.autograd import Variable\n",
    "import torch.nn.functional as F\n",
    "import numpy as np\n",
    "import csv"
   ]
  },
  {
   "cell_type": "markdown",
   "metadata": {},
   "source": [
    "### Data reading"
   ]
  },
  {
   "cell_type": "code",
   "execution_count": 35,
   "metadata": {
    "collapsed": true
   },
   "outputs": [],
   "source": [
    "# data reading\n",
    "with open('./data/titanicTrain.csv', 'r') as f:\n",
    "    data = list(csv.reader((f)))\n",
    "    data = np.array(data)"
   ]
  },
  {
   "cell_type": "code",
   "execution_count": 36,
   "metadata": {
    "collapsed": false
   },
   "outputs": [
    {
     "data": {
      "text/plain": [
       "array(['pclass', 'sex', 'age', 'sibsp', 'parch', 'fare'],\n",
       "      dtype='<U82')"
      ]
     },
     "execution_count": 36,
     "metadata": {},
     "output_type": "execute_result"
    }
   ],
   "source": [
    "data = data[:1000]\n",
    "data[0, [0, 3, 4, 5, 6, 8]]"
   ]
  },
  {
   "cell_type": "code",
   "execution_count": 37,
   "metadata": {
    "collapsed": false
   },
   "outputs": [
    {
     "data": {
      "text/plain": [
       "((999, 9), (999,))"
      ]
     },
     "execution_count": 37,
     "metadata": {},
     "output_type": "execute_result"
    }
   ],
   "source": [
    "def data_clean(data, withLabel=True):\n",
    "    x_train = data[1:, [0, 3, 4, 5, 6, 8]]\n",
    "    y_train = data[1:, 1]\n",
    "    pclass = list()\n",
    "    sex = list()\n",
    "    embarked = list()\n",
    "    for i in range(len(x_train)):\n",
    "        # sex -- class data one hot\n",
    "        if x_train[i, 1] == 'male':\n",
    "            sex.append([1, 0])\n",
    "        else:\n",
    "            sex.append([0, 1])\n",
    "        # age\n",
    "        if x_train[i, 2] == '':\n",
    "            x_train[i, 2] = '-100'\n",
    "        # fare\n",
    "        if x_train[i, 5] == '':\n",
    "            x_train[i, 5] = '-200'\n",
    "        # pclass -- class data one hot\n",
    "        if x_train[i, 0] == '1':\n",
    "            pclass.append([1, 0, 0])\n",
    "        elif x_train[i, 0] == '2':\n",
    "            pclass.append([0, 1, 0])\n",
    "        else:\n",
    "            pclass.append([0, 0, 1])\n",
    "    if withLabel: \n",
    "        y_train = np.array(y_train).astype('int64')\n",
    "    sex = np.array(sex)\n",
    "    pclass = np.array(pclass)\n",
    "    x_train = x_train[:, [2, 3, 4, 5]].astype('float32')\n",
    "    # normalization\n",
    "    x_train[:, 0] = x_train[:, 0]/100\n",
    "    x_train[:, 1] = x_train[:, 1]/6\n",
    "    x_train[:, 2] = x_train[:, 2]/6\n",
    "    x_train[:, 3] = x_train[:, 2]/200\n",
    "    # combination of class-data and continuous data\n",
    "    x_train = np.hstack([pclass, sex, x_train])\n",
    "    if withLabel: \n",
    "        return x_train, y_train\n",
    "    else:\n",
    "        return x_train\n",
    "\n",
    "x_train, y_train = data_clean(data)\n",
    "x_train.shape, y_train.shape"
   ]
  },
  {
   "cell_type": "code",
   "execution_count": 38,
   "metadata": {
    "collapsed": false
   },
   "outputs": [
    {
     "data": {
      "text/plain": [
       "(199, 800)"
      ]
     },
     "execution_count": 38,
     "metadata": {},
     "output_type": "execute_result"
    }
   ],
   "source": [
    "# random splitting of training set and testing set\n",
    "ind = np.arange(len(x_train))\n",
    "np.random.shuffle(ind)\n",
    "ind_train = ind[0:int(len(x_train)*0.8)+1]\n",
    "ind_test = ind[int(len(x_train)*0.8)+1:]\n",
    "x_test = x_train[ind_test]\n",
    "y_test = y_train[ind_test]\n",
    "x_train = x_train[ind_train]\n",
    "y_train = y_train[ind_train]\n",
    "len(x_test), len(x_train)"
   ]
  },
  {
   "cell_type": "code",
   "execution_count": 39,
   "metadata": {
    "collapsed": false
   },
   "outputs": [
    {
     "data": {
      "text/plain": [
       "(309, 9)"
      ]
     },
     "execution_count": 39,
     "metadata": {},
     "output_type": "execute_result"
    }
   ],
   "source": [
    "# validation data\n",
    "with open('./data/titanicQuestion.csv', 'r') as f:\n",
    "    data_valid = list(csv.reader((f)))\n",
    "    data_valid = np.array(data_valid)\n",
    "\n",
    "x_valid = data_clean(data_valid, withLabel=False)\n",
    "x_valid.shape"
   ]
  },
  {
   "cell_type": "code",
   "execution_count": 40,
   "metadata": {
    "collapsed": false
   },
   "outputs": [
    {
     "data": {
      "text/plain": [
       "Counter({'0': 577, '1': 422})"
      ]
     },
     "execution_count": 40,
     "metadata": {},
     "output_type": "execute_result"
    }
   ],
   "source": [
    "from collections import Counter\n",
    "Counter(data[1:, 1])"
   ]
  },
  {
   "cell_type": "markdown",
   "metadata": {},
   "source": [
    "### hyperparameter"
   ]
  },
  {
   "cell_type": "code",
   "execution_count": 41,
   "metadata": {
    "collapsed": true
   },
   "outputs": [],
   "source": [
    "epoch = 2000\n",
    "l_r = 1e-4\n",
    "n_in = len(x_train[0])\n",
    "n_out = 2\n",
    "p_drop = .2"
   ]
  },
  {
   "cell_type": "markdown",
   "metadata": {},
   "source": [
    "### network structure"
   ]
  },
  {
   "cell_type": "code",
   "execution_count": 42,
   "metadata": {
    "collapsed": true
   },
   "outputs": [],
   "source": [
    "class LR(nn.Module):\n",
    "    def __init__(self):\n",
    "        super(LR, self).__init__()\n",
    "        self.hidden1 = nn.Linear(n_in, 128)\n",
    "        self.hidden2 = nn.Linear(128, 128)\n",
    "        self.hidden3 = nn.Linear(128, n_out)\n",
    "\n",
    "    def forward(self, x):\n",
    "        x = F.relu(self.hidden1(x))\n",
    "        x = F.dropout(x, p=p_drop)\n",
    "        x = F.relu(self.hidden2(x))\n",
    "        x = F.dropout(x, p=p_drop)\n",
    "        out = F.softmax(self.hidden3(x))\n",
    "        return out"
   ]
  },
  {
   "cell_type": "code",
   "execution_count": 43,
   "metadata": {
    "collapsed": true
   },
   "outputs": [],
   "source": [
    "model = LR()\n",
    "loss_func = nn.CrossEntropyLoss()\n",
    "op = torch.optim.RMSprop(model.parameters(), lr=l_r)"
   ]
  },
  {
   "cell_type": "markdown",
   "metadata": {},
   "source": [
    "### Training"
   ]
  },
  {
   "cell_type": "code",
   "execution_count": 44,
   "metadata": {
    "collapsed": false,
    "scrolled": true
   },
   "outputs": [
    {
     "name": "stdout",
     "output_type": "stream",
     "text": [
      "Epoch: 100 , LossTrain: [ 0.542] , AccuTrain: 0.79125 , AccuTest: 0.78391959799\n",
      "Epoch: 200 , LossTrain: [ 0.517] , AccuTrain: 0.7925 , AccuTest: 0.798994974874\n",
      "Epoch: 300 , LossTrain: [ 0.509] , AccuTrain: 0.80375 , AccuTest: 0.793969849246\n",
      "Epoch: 400 , LossTrain: [ 0.505] , AccuTrain: 0.79875 , AccuTest: 0.798994974874\n",
      "Epoch: 500 , LossTrain: [ 0.502] , AccuTrain: 0.8 , AccuTest: 0.819095477387\n",
      "Epoch: 600 , LossTrain: [ 0.5] , AccuTrain: 0.80375 , AccuTest: 0.814070351759\n",
      "Epoch: 700 , LossTrain: [ 0.498] , AccuTrain: 0.815 , AccuTest: 0.819095477387\n",
      "Epoch: 800 , LossTrain: [ 0.493] , AccuTrain: 0.81375 , AccuTest: 0.814070351759\n",
      "Epoch: 900 , LossTrain: [ 0.488] , AccuTrain: 0.8275 , AccuTest: 0.809045226131\n",
      "Epoch: 1000 , LossTrain: [ 0.485] , AccuTrain: 0.82875 , AccuTest: 0.804020100503\n",
      "Epoch: 1100 , LossTrain: [ 0.483] , AccuTrain: 0.82625 , AccuTest: 0.804020100503\n",
      "Epoch: 1200 , LossTrain: [ 0.481] , AccuTrain: 0.82625 , AccuTest: 0.804020100503\n",
      "Epoch: 1300 , LossTrain: [ 0.48] , AccuTrain: 0.825 , AccuTest: 0.793969849246\n",
      "Epoch: 1400 , LossTrain: [ 0.478] , AccuTrain: 0.8275 , AccuTest: 0.793969849246\n",
      "Epoch: 1500 , LossTrain: [ 0.477] , AccuTrain: 0.8275 , AccuTest: 0.788944723618\n",
      "Epoch: 1600 , LossTrain: [ 0.477] , AccuTrain: 0.82875 , AccuTest: 0.793969849246\n",
      "Epoch: 1700 , LossTrain: [ 0.476] , AccuTrain: 0.83125 , AccuTest: 0.793969849246\n",
      "Epoch: 1800 , LossTrain: [ 0.475] , AccuTrain: 0.83 , AccuTest: 0.788944723618\n",
      "Epoch: 1900 , LossTrain: [ 0.475] , AccuTrain: 0.83125 , AccuTest: 0.788944723618\n",
      "Epoch: 2000 , LossTrain: [ 0.474] , AccuTrain: 0.83125 , AccuTest: 0.788944723618\n"
     ]
    }
   ],
   "source": [
    "np.set_printoptions(precision=3)\n",
    "for epo in range(epoch):\n",
    "    # convert to variables\n",
    "    x = Variable(torch.from_numpy(x_train.astype('float32')))\n",
    "    y = Variable(torch.from_numpy(y_train.astype('int64')))\n",
    "\n",
    "    # clear gradient w.r.t. parameters \n",
    "    op.zero_grad()\n",
    "\n",
    "    # forward to get output\n",
    "    prediction = model(x)\n",
    "\n",
    "    # calculate loss\n",
    "    loss = loss_func(prediction, y)\n",
    "\n",
    "    # backward to get gradient\n",
    "    loss.backward()\n",
    "\n",
    "    # update parameters\n",
    "    op.step() \n",
    "\n",
    "    if (epo+1)%100 == 0:\n",
    "        pred_train = np.array([np.argmax(prediction.data.numpy()[i]) for i in range(len(prediction.data.numpy()))])\n",
    "        accu_train = (len(y_train)-np.sum(np.power(pred_train-y_train, 2)))/len(y_train)\n",
    "        tt = Variable(torch.from_numpy(x_test.astype('float32')))\n",
    "        prediction_test = model(tt)\n",
    "        pred_test = np.array([np.argmax(prediction_test.data.numpy()[i]) for i in range(len(prediction_test.data.numpy()))])\n",
    "        accu_test = (len(y_test)-np.sum(np.power(pred_test-y_test, 2)))/len(y_test)\n",
    "        print('Epoch:', epo+1,\n",
    "              ', LossTrain:', loss.data.numpy(),\n",
    "              ', AccuTrain:', accu_train,\n",
    "              ', AccuTest:', accu_test)\n",
    "    pred = model(Variable(torch.from_numpy(x_valid.astype('float32')))).data.numpy()"
   ]
  },
  {
   "cell_type": "code",
   "execution_count": 45,
   "metadata": {
    "collapsed": false
   },
   "outputs": [
    {
     "data": {
      "text/plain": [
       "(Counter({0: 257, 1: 52}),\n",
       " [0,\n",
       "  0,\n",
       "  0,\n",
       "  0,\n",
       "  1,\n",
       "  0,\n",
       "  1,\n",
       "  1,\n",
       "  0,\n",
       "  0,\n",
       "  0,\n",
       "  1,\n",
       "  1,\n",
       "  1,\n",
       "  1,\n",
       "  0,\n",
       "  0,\n",
       "  0,\n",
       "  0,\n",
       "  0,\n",
       "  0,\n",
       "  0,\n",
       "  0,\n",
       "  1,\n",
       "  0,\n",
       "  0,\n",
       "  1,\n",
       "  0,\n",
       "  0,\n",
       "  0,\n",
       "  0,\n",
       "  0,\n",
       "  0,\n",
       "  0,\n",
       "  0,\n",
       "  0,\n",
       "  0,\n",
       "  1,\n",
       "  0,\n",
       "  1,\n",
       "  0,\n",
       "  0,\n",
       "  0,\n",
       "  0,\n",
       "  1,\n",
       "  0,\n",
       "  0,\n",
       "  1,\n",
       "  1,\n",
       "  0,\n",
       "  1,\n",
       "  0,\n",
       "  0,\n",
       "  0,\n",
       "  1,\n",
       "  0,\n",
       "  0,\n",
       "  1,\n",
       "  0,\n",
       "  0,\n",
       "  1,\n",
       "  0,\n",
       "  0,\n",
       "  0,\n",
       "  0,\n",
       "  0,\n",
       "  0,\n",
       "  0,\n",
       "  0,\n",
       "  0,\n",
       "  0,\n",
       "  0,\n",
       "  0,\n",
       "  0,\n",
       "  0,\n",
       "  0,\n",
       "  1,\n",
       "  1,\n",
       "  1,\n",
       "  0,\n",
       "  0,\n",
       "  1,\n",
       "  0,\n",
       "  0,\n",
       "  0,\n",
       "  0,\n",
       "  0,\n",
       "  0,\n",
       "  0,\n",
       "  0,\n",
       "  0,\n",
       "  0,\n",
       "  0,\n",
       "  0,\n",
       "  0,\n",
       "  1,\n",
       "  0,\n",
       "  0,\n",
       "  1,\n",
       "  1,\n",
       "  0,\n",
       "  0,\n",
       "  0,\n",
       "  0,\n",
       "  0,\n",
       "  0,\n",
       "  0,\n",
       "  0,\n",
       "  0,\n",
       "  0,\n",
       "  0,\n",
       "  0,\n",
       "  1,\n",
       "  1,\n",
       "  0,\n",
       "  0,\n",
       "  0,\n",
       "  0,\n",
       "  0,\n",
       "  0,\n",
       "  0,\n",
       "  0,\n",
       "  0,\n",
       "  0,\n",
       "  1,\n",
       "  0,\n",
       "  0,\n",
       "  0,\n",
       "  0,\n",
       "  0,\n",
       "  1,\n",
       "  0,\n",
       "  0,\n",
       "  0,\n",
       "  0,\n",
       "  0,\n",
       "  1,\n",
       "  0,\n",
       "  0,\n",
       "  0,\n",
       "  0,\n",
       "  0,\n",
       "  0,\n",
       "  0,\n",
       "  0,\n",
       "  0,\n",
       "  0,\n",
       "  0,\n",
       "  0,\n",
       "  1,\n",
       "  0,\n",
       "  1,\n",
       "  0,\n",
       "  0,\n",
       "  0,\n",
       "  0,\n",
       "  1,\n",
       "  0,\n",
       "  0,\n",
       "  1,\n",
       "  0,\n",
       "  0,\n",
       "  0,\n",
       "  0,\n",
       "  0,\n",
       "  0,\n",
       "  0,\n",
       "  0,\n",
       "  0,\n",
       "  0,\n",
       "  0,\n",
       "  0,\n",
       "  0,\n",
       "  0,\n",
       "  0,\n",
       "  0,\n",
       "  0,\n",
       "  0,\n",
       "  0,\n",
       "  0,\n",
       "  0,\n",
       "  0,\n",
       "  0,\n",
       "  0,\n",
       "  0,\n",
       "  0,\n",
       "  0,\n",
       "  1,\n",
       "  1,\n",
       "  1,\n",
       "  0,\n",
       "  0,\n",
       "  0,\n",
       "  0,\n",
       "  0,\n",
       "  0,\n",
       "  0,\n",
       "  0,\n",
       "  1,\n",
       "  0,\n",
       "  0,\n",
       "  0,\n",
       "  0,\n",
       "  0,\n",
       "  0,\n",
       "  1,\n",
       "  0,\n",
       "  0,\n",
       "  0,\n",
       "  0,\n",
       "  0,\n",
       "  0,\n",
       "  0,\n",
       "  0,\n",
       "  0,\n",
       "  0,\n",
       "  1,\n",
       "  0,\n",
       "  0,\n",
       "  0,\n",
       "  0,\n",
       "  0,\n",
       "  0,\n",
       "  0,\n",
       "  0,\n",
       "  0,\n",
       "  0,\n",
       "  0,\n",
       "  0,\n",
       "  0,\n",
       "  1,\n",
       "  1,\n",
       "  0,\n",
       "  0,\n",
       "  0,\n",
       "  0,\n",
       "  0,\n",
       "  0,\n",
       "  0,\n",
       "  0,\n",
       "  0,\n",
       "  0,\n",
       "  0,\n",
       "  0,\n",
       "  1,\n",
       "  0,\n",
       "  0,\n",
       "  0,\n",
       "  0,\n",
       "  0,\n",
       "  0,\n",
       "  0,\n",
       "  0,\n",
       "  0,\n",
       "  0,\n",
       "  0,\n",
       "  0,\n",
       "  1,\n",
       "  1,\n",
       "  0,\n",
       "  1,\n",
       "  0,\n",
       "  0,\n",
       "  0,\n",
       "  0,\n",
       "  1,\n",
       "  0,\n",
       "  1,\n",
       "  0,\n",
       "  0,\n",
       "  0,\n",
       "  0,\n",
       "  0,\n",
       "  1,\n",
       "  0,\n",
       "  0,\n",
       "  0,\n",
       "  0,\n",
       "  0,\n",
       "  1,\n",
       "  0,\n",
       "  0,\n",
       "  0,\n",
       "  0,\n",
       "  0,\n",
       "  0,\n",
       "  0,\n",
       "  0,\n",
       "  0,\n",
       "  0,\n",
       "  0,\n",
       "  0,\n",
       "  0,\n",
       "  0,\n",
       "  0,\n",
       "  0,\n",
       "  0,\n",
       "  0,\n",
       "  0,\n",
       "  0,\n",
       "  1,\n",
       "  0,\n",
       "  0,\n",
       "  0,\n",
       "  1,\n",
       "  0,\n",
       "  0,\n",
       "  0,\n",
       "  0])"
      ]
     },
     "execution_count": 45,
     "metadata": {},
     "output_type": "execute_result"
    }
   ],
   "source": [
    "from collections import Counter\n",
    "sur = [np.argmax(pred[i]) for i in range(len(pred))]\n",
    "Counter(sur), sur"
   ]
  },
  {
   "cell_type": "code",
   "execution_count": 77,
   "metadata": {
    "collapsed": false
   },
   "outputs": [
    {
     "data": {
      "text/plain": [
       "True"
      ]
     },
     "execution_count": 77,
     "metadata": {},
     "output_type": "execute_result"
    }
   ],
   "source": [
    "xx == sur"
   ]
  },
  {
   "cell_type": "code",
   "execution_count": null,
   "metadata": {
    "collapsed": true
   },
   "outputs": [],
   "source": []
  }
 ],
 "metadata": {
  "kernelspec": {
   "display_name": "Python [default]",
   "language": "python",
   "name": "python3"
  },
  "language_info": {
   "codemirror_mode": {
    "name": "ipython",
    "version": 3
   },
   "file_extension": ".py",
   "mimetype": "text/x-python",
   "name": "python",
   "nbconvert_exporter": "python",
   "pygments_lexer": "ipython3",
   "version": "3.5.2"
  }
 },
 "nbformat": 4,
 "nbformat_minor": 2
}
